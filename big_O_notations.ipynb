{
 "cells": [
  {
   "cell_type": "code",
   "execution_count": null,
   "metadata": {
    "collapsed": true,
    "pycharm": {
     "name": "#%%\n",
     "is_executing": true
    }
   },
   "outputs": [],
   "source": [
    "import math"
   ]
  },
  {
   "cell_type": "markdown",
   "source": [
    "# Big O notations\n",
    "( source = https://www.youtube.com/watch?v=Mo4vesaut8g )"
   ],
   "metadata": {
    "collapsed": false,
    "pycharm": {
     "name": "#%% md\n"
    }
   }
  },
  {
   "cell_type": "markdown",
   "source": [
    "Minden sorra megnézzük a complexitást és a legrosszabb fog számítani:\n",
    "\n",
    "elvek:\n",
    "\n",
    "- a konstansokat nem vesszük figyelembe\n",
    "\n",
    "- mindig a felső határt keressük, így pl O(2^n-1) --> O(2^n) lesz\n",
    "\n",
    "### Time complextiy:"
   ],
   "metadata": {
    "collapsed": false,
    "pycharm": {
     "name": "#%% md\n"
    }
   }
  },
  {
   "cell_type": "markdown",
   "source": [
    "A legjobb, legegyszerűbb:\n",
    "    - Constant O(1) - ha csak állandók vannak benne ( pl print(5, alma))"
   ],
   "metadata": {
    "collapsed": false,
    "pycharm": {
     "name": "#%% md\n"
    }
   }
  },
  {
   "cell_type": "markdown",
   "source": [
    "#### n mindig a benne lévő elem száma"
   ],
   "metadata": {
    "collapsed": false,
    "pycharm": {
     "name": "#%% md\n"
    }
   }
  },
  {
   "cell_type": "markdown",
   "source": [
    "- Linear O(n) - például egy lista iterlása\n",
    "    ( itt egy négyzet területe -ennyi lesz az iterációk száma)"
   ],
   "metadata": {
    "collapsed": false,
    "pycharm": {
     "name": "#%% md\n"
    }
   }
  },
  {
   "cell_type": "markdown",
   "source": [
    "- Square - O(n^2)  - egy nested loop ilyen, mert mindent mindennel szorzunk\n",
    "    (itt egy kocka területe - ennyi lesz az iterációk száma)"
   ],
   "metadata": {
    "collapsed": false,
    "pycharm": {
     "name": "#%% md\n"
    }
   }
  },
  {
   "cell_type": "markdown",
   "source": [
    "- Cube O(n^3) - 3x -osan nested loop"
   ],
   "metadata": {
    "collapsed": false,
    "pycharm": {
     "name": "#%% md\n"
    }
   }
  },
  {
   "cell_type": "markdown",
   "source": [
    "# O(log n)"
   ],
   "metadata": {
    "collapsed": false,
    "pycharm": {
     "name": "#%% md\n"
    }
   }
  },
  {
   "cell_type": "markdown",
   "source": [
    "###   - O(log n) - rekurziónál\n",
    "\n",
    "- logˇ2 3 = 8 - kettes alapú logartimust használunk, és a szinteket hányadik hatványra kell emelnem a 2-t, hogy megkapjam az n -t"
   ],
   "metadata": {
    "collapsed": false,
    "pycharm": {
     "name": "#%% md\n"
    }
   }
  },
  {
   "cell_type": "markdown",
   "source": [
    "### O(log n) iteratie/non-recursive"
   ],
   "metadata": {
    "collapsed": false,
    "pycharm": {
     "name": "#%% md\n"
    }
   }
  },
  {
   "cell_type": "code",
   "execution_count": 1,
   "outputs": [
    {
     "name": "stdout",
     "output_type": "stream",
     "text": [
      "4\n",
      "2\n",
      "1\n",
      "done\n"
     ]
    }
   ],
   "source": [
    "def logn(n):\n",
    "    while n > 1 :\n",
    "        n = math.floor(n / 2)\n",
    "        print(n)\n",
    "    else:\n",
    "        return \"done\"\n",
    "print(logn(n=8))"
   ],
   "metadata": {
    "collapsed": false,
    "pycharm": {
     "name": "#%%\n"
    }
   }
  },
  {
   "cell_type": "markdown",
   "source": [
    "### Binary Search ( log n )"
   ],
   "metadata": {
    "collapsed": false,
    "pycharm": {
     "name": "#%% md\n"
    }
   }
  },
  {
   "cell_type": "code",
   "execution_count": 25,
   "outputs": [
    {
     "name": "stdout",
     "output_type": "stream",
     "text": [
      "511\n",
      "767\n",
      "895\n",
      "959\n",
      "991\n",
      "1007\n",
      "1015\n",
      "1019\n",
      "1021\n",
      "1022\n",
      "False\n"
     ]
    }
   ],
   "source": [
    "bigList = []\n",
    "for i in range(1, 1024):\n",
    "    bigList.append(i)\n",
    "#print(bigList)\n",
    "\n",
    "\n",
    "def binary_search (searching_list, start, end, target):\n",
    "    searching_list = sorted(searching_list)\n",
    "    if start > end:\n",
    "        return False\n",
    "    mid_index = math.floor((start+end)/2)\n",
    "    print(mid_index)\n",
    "    if searching_list[mid_index] == target:  # the target is found\n",
    "        return True\n",
    "    elif searching_list[mid_index] > target: # the target is left from the mid value\n",
    "        print(searching_list[mid_index])\n",
    "        return binary_search(searching_list=searching_list, start=start, end= mid_index-1, target=target)\n",
    "    else:\n",
    "        return binary_search(searching_list=searching_list, start=mid_index+1, end=end, target=target) #the target is right from the mid value\n",
    "\n",
    "# searching_list = [1,2,3,4,5,6,7,8]\n",
    "# start = 0\n",
    "# end = len(searching_list)-1\n",
    "# target = 10\n",
    "#a = binary_search(searching_list=searching_list, start=start, end=end, target=target)\n",
    "#print(a)\n",
    "\n",
    "a = binary_search(searching_list=bigList, start=0, end=len(bigList)-1, target=10000)\n",
    "print(a)\n"
   ],
   "metadata": {
    "collapsed": false,
    "pycharm": {
     "name": "#%%\n"
    }
   }
  },
  {
   "cell_type": "markdown",
   "source": [
    "# O ( n log n )"
   ],
   "metadata": {
    "collapsed": false,
    "pycharm": {
     "name": "#%% md\n"
    }
   }
  },
  {
   "cell_type": "code",
   "execution_count": 14,
   "outputs": [
    {
     "name": "stdout",
     "output_type": "stream",
     "text": [
      "0\n",
      "1\n",
      "2\n",
      "3\n",
      "0\n",
      "1\n",
      "2\n",
      "3\n",
      "None\n"
     ]
    }
   ],
   "source": [
    "# a for loopban y-ig iterálunk, és két iteráción megy át a while loop\n",
    "# 4 esetében a while loop O(log n), mert a teljes n-en sosem megy végig\n",
    "# , ami O(log2 4) ez 2, a for loop pedig O(n) , mert lineárisan nő. O(n logn) = O(2*4)\n",
    "\n",
    "def n_log_n(n):\n",
    "    y = n\n",
    "    while n > 1:\n",
    "        n = math.floor(n/2)\n",
    "        for j in range(y):\n",
    "            print(j)\n",
    "\n",
    "\n",
    "            print(n_log_n(4))"
   ],
   "metadata": {
    "collapsed": false,
    "pycharm": {
     "name": "#%%\n"
    }
   }
  },
  {
   "cell_type": "code",
   "execution_count": 34,
   "outputs": [
    {
     "data": {
      "text/plain": [
       "[1, 2, 3, 4, 5, 6, 12, 16, 17]"
      ]
     },
     "execution_count": 34,
     "metadata": {},
     "output_type": "execute_result"
    }
   ],
   "source": [
    "def merge_sort(input_list): #the recursive function is O(logn)\n",
    "    if len(input_list) < 2:\n",
    "        return input_list\n",
    "    mid_index = math.floor(len(input_list) / 2 )\n",
    "    left_list = input_list[0: mid_index]\n",
    "    right_list = input_list[mid_index : len(input_list)]\n",
    "\n",
    "    return merge(left_list=merge_sort(left_list), right_list=merge_sort(right_list))  #O(n)\n",
    "\n",
    "#overall is O(nlogn)\n",
    "\n",
    "#left_list and right_list should be ordered\n",
    "def merge(left_list, right_list):\n",
    "    result_list = []\n",
    "    left_index = 0\n",
    "    right_index = 0\n",
    "    while left_index < len(left_list) and right_index < len(right_list):\n",
    "        if left_list[left_index] < right_list[right_index]:\n",
    "            result_list.append(left_list[left_index])\n",
    "            left_index += 1\n",
    "        else:\n",
    "            result_list.append(right_list[right_index])\n",
    "            right_index += 1\n",
    "    return result_list + left_list[left_index:] + right_list[right_index:]\n",
    "\n",
    "a = merge_sort([3,12,16, 5, 1,4,6,17,2])\n",
    "a"
   ],
   "metadata": {
    "collapsed": false,
    "pycharm": {
     "name": "#%%\n"
    }
   }
  },
  {
   "cell_type": "markdown",
   "source": [
    "# Fibonacci and O(2^n)"
   ],
   "metadata": {
    "collapsed": false,
    "pycharm": {
     "name": "#%% md\n"
    }
   }
  },
  {
   "cell_type": "code",
   "execution_count": 38,
   "outputs": [
    {
     "data": {
      "text/plain": [
       "1"
      ]
     },
     "execution_count": 38,
     "metadata": {},
     "output_type": "execute_result"
    }
   ],
   "source": [
    "# ez igazából O(2^n-1) de mivel a konstansokat nem nézzük ezért lesz O(2^n) ,\n",
    "# mivel itt mindig felső határt nézünk,így ez a worst case scennario\n",
    "\n",
    "def fib(n):\n",
    "    if n == 0:\n",
    "        return 0\n",
    "    elif n == 1:\n",
    "        return 1\n",
    "    return fib(n - 1) + fib(n - 2)\n",
    "\n",
    "a = fib(2)\n",
    "a"
   ],
   "metadata": {
    "collapsed": false,
    "pycharm": {
     "name": "#%%\n"
    }
   }
  },
  {
   "cell_type": "markdown",
   "source": [
    "#  O(n!)"
   ],
   "metadata": {
    "collapsed": false,
    "pycharm": {
     "name": "#%% md\n"
    }
   }
  },
  {
   "cell_type": "markdown",
   "source": [
    "egy fa struktúrát csinál az\n",
    "\n",
    "- f(3) egyszer(3 iteráció lesz),\n",
    "\n",
    "- az f(2) 3x fut( 3*2 iteráció fut le,\n",
    "\n",
    "- az f(1) 6x fut le (3*2*1 iteráció fut le)\n",
    "\n",
    "- az f(0) visszaadja a print-et, így az a vége (6x)\n"
   ],
   "metadata": {
    "collapsed": false,
    "pycharm": {
     "name": "#%% md\n"
    }
   }
  },
  {
   "cell_type": "code",
   "execution_count": 48,
   "outputs": [
    {
     "name": "stdout",
     "output_type": "stream",
     "text": [
      "***************\n",
      "***************\n",
      "***************\n",
      "***************\n",
      "***************\n",
      "***************\n"
     ]
    }
   ],
   "source": [
    "def f(n):\n",
    "    if n == 0:\n",
    "        print(\"***************\")\n",
    "        return\n",
    "    for k in range(n):\n",
    "        f(n - 1)\n",
    "\n",
    "a = f(3)\n",
    "a"
   ],
   "metadata": {
    "collapsed": false,
    "pycharm": {
     "name": "#%%\n"
    }
   }
  },
  {
   "cell_type": "markdown",
   "source": [
    "# Space Complexity & Common mistakes"
   ],
   "metadata": {
    "collapsed": false,
    "pycharm": {
     "name": "#%% md\n"
    }
   }
  },
  {
   "cell_type": "code",
   "execution_count": 53,
   "outputs": [
    {
     "data": {
      "text/plain": [
       "0"
      ]
     },
     "execution_count": 53,
     "metadata": {},
     "output_type": "execute_result"
    }
   ],
   "source": [
    "# a memóriában 5x kerül meghívásra, így a space complexitije O(n)\n",
    "\n",
    "def count_down(n):\n",
    "    if n == 0:\n",
    "        return 0\n",
    "    return count_down(n - 1)\n",
    "\n",
    "a = count_down(3)\n",
    "a"
   ],
   "metadata": {
    "collapsed": false,
    "pycharm": {
     "name": "#%%\n"
    }
   }
  },
  {
   "cell_type": "markdown",
   "source": [
    "Ha két for loop megy azonos inputtal, az O(n) * O(n) -->O(2n) --> O(n)\n",
    "\n",
    "Különböző inputokkal pedig O(input_a + input_b)\n",
    "\n",
    "Ha különbözp inputtal nested loopban pedig O(input_a * input_b) O(2^n) akkor lenne, ha azonos input lenne"
   ],
   "metadata": {
    "collapsed": false,
    "pycharm": {
     "name": "#%% md\n"
    }
   }
  },
  {
   "cell_type": "code",
   "execution_count": null,
   "outputs": [],
   "source": [],
   "metadata": {
    "collapsed": false,
    "pycharm": {
     "name": "#%%\n"
    }
   }
  }
 ],
 "metadata": {
  "kernelspec": {
   "display_name": "Python 3",
   "language": "python",
   "name": "python3"
  },
  "language_info": {
   "codemirror_mode": {
    "name": "ipython",
    "version": 2
   },
   "file_extension": ".py",
   "mimetype": "text/x-python",
   "name": "python",
   "nbconvert_exporter": "python",
   "pygments_lexer": "ipython2",
   "version": "2.7.6"
  }
 },
 "nbformat": 4,
 "nbformat_minor": 0
}